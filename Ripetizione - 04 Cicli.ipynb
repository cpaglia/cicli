{
 "cells": [
  {
   "cell_type": "markdown",
   "metadata": {},
   "source": [
    "## Strutture iterative in Python\n",
    "### Ciclo for\n",
    "\n",
    "Python ha due tipi di cicli - cicli for e cicli while. Il ciclo for si usa per iterare cioè svolgere ripetutamente dei compiti quando sappiamo quante volte dobbiamo svolgere questi compiti (iterazione definita)."
   ]
  },
  {
   "cell_type": "code",
   "execution_count": null,
   "metadata": {},
   "outputs": [],
   "source": [
    "for i in range(3):\n",
    "\tprint(\"Hello!\")"
   ]
  },
  {
   "cell_type": "markdown",
   "metadata": {},
   "source": [
    "### Struttura di un ciclo for\n",
    "La prima riga inizia con la parola chiave for che segnala che sta iniziando un ciclo for.\n",
    "Subito dopo è presente la variabile contatore che, in questo esempio, si chiama i.\n",
    "\n",
    "range() è una funzione di Python che serve per creare una sequenza iterabile di interi. La variabile contatore i assumerà, ad ogni iterazione, uno dei valori inclusi nel range.\n",
    "\n",
    "La sintassi della funzione range() è:\n",
    "\n",
    "`range(start=0, stop, step=1)`\n",
    "\n",
    "La funzione range() ha bisogno di tre valori, di cui i primi due sono opzionali.\n",
    "\n",
    "Il valore 'start' è il primo numero della sequenza. Se non viene specificato, il suo valore di default è pari a 0.\n",
    "Il valore 'stop' è l'ultimo numero della sequenza più 1. Va specificato obbligatoriamente.\n",
    "Il valore 'step' è la distanza tra ciascun valore della sequenza. Se non viene specificato, il suo valore di default è pari a 0.\n",
    "\n",
    "Nell'esempio sopra, quindi, il range di valori del contatore i è 0, 1, 2 perché 'start' non viene specificato (e quindi è pari a 0), 'stop' è pari a 3 (cioè l'ultimo numero della sequenza 2 + 1) e 'step' non è specificato quindi è pari a 1.\n",
    "\n",
    "### Regole per l'uso di range()\n",
    "- Se specifichi un valore all'interno delle parentesi tonde di range(), questo sarà inteso come il valore 'stop' (come nell'esempio qui su)\n",
    "- Se specifichi due valori all'interno delle parentesi tonde di range(), questi saranno usati come valori 'start' e 'stop'\n",
    "\t- esempio: range(2, 6) produce la sequenza 2, 3, 4, 5\n",
    "- Se specifichi tre valori all'interno delle parentesi tonde di range(), questi saranno in ordine 'start', 'stop' e 'step'\n",
    "\t- esempio: range(1, 10, 2) produce la sequenza 1, 3, 5, 7, 9\n",
    "\n",
    "La prima riga termina con i due punti. Sotto la prima riga si inserisce il blocco indentato di operazioni che vanno eseguite ogni volta che il ciclo viene ripetuto.\n",
    "Dopo ogni esecuzione del blocco indentato, il programma ritorna alla prima riga del ciclo for per controllare se il contatore i ha assunto l'ultimo valore della sequenza oppure no. Se i ha assunto l'ultimo valore della sequenza allora si passa alle istruzioni successive, altrimenti si ripetono le istruzioni del blocco indentato.\n",
    "\n",
    "## Ciclo while\n",
    "Il ciclo while si usa per le iterazioni indefinite, quando non sappiamo quante volte dovremo eseguire ripetutamente le istruzioni del blocco indentato. Le istruzioni del blocco indentato saranno eseguite fino a quando è vera una determinata condizione."
   ]
  },
  {
   "cell_type": "code",
   "execution_count": null,
   "metadata": {},
   "outputs": [],
   "source": [
    "somma = 0\n",
    "\n",
    "while somma < 100:\n",
    "\tsomma += int(input(\"Inserisci un intero, mi fermo quando la somma è almeno pari a 100: \"))\n",
    "\tprint(\"Valore della somma: {}\".format(somma))\n",
    "\t\n",
    "print(\"Valore finale della somma: {}\".format(somma))"
   ]
  },
  {
   "cell_type": "markdown",
   "metadata": {},
   "source": [
    "## Struttura di un ciclo while\n",
    "La prima riga inizia con la parola chiave while che segnala che sta iniziando un ciclo while. Subito dopo c'è una condizione che va controllata: in questo caso è somma < 100. La prima istruzione termina con i due punti.\n",
    "\n",
    "Subito dopo c'è il corpo dell'iterazione cioè il blocco di istruzioni indentato che sono eseguite quando la condizione ha valore True. Al termine di ogni esecuzione del blocco, si ritorna alla prima riga del ciclo e si controlla la condizione: se è pari a True si esegue nuovamente il blocco indentato altrimenti si passa alle istruzioni immediatamente successive (che non saranno indentate).\n",
    "\n",
    "Attenzione a modificare all'interno del blocco indentato la variabile contenuta nella condizione per evitare un ciclo infinito.\n",
    "\n",
    "## in Python NON esiste il ciclo do..while"
   ]
  },
  {
   "cell_type": "code",
   "execution_count": 4,
   "metadata": {},
   "outputs": [
    {
     "name": "stdout",
     "output_type": "stream",
     "text": [
      "Valore della somma: 500\n"
     ]
    }
   ],
   "source": [
    "''' \n",
    "Scrivi un programma che consenta di inserire numeri \n",
    "interi positivi e ne calcoli la somma. Il programma deve terminare quando la somma\n",
    "dei numeri inseriti è almeno pari a 100.\n",
    "'''\n",
    "somma = 0\n",
    "count = 1\n",
    "while somma < 100:\n",
    "    numero = int(input(\"Inserisci un numero pari, mi fermo quando la somma è almeno pari a 100 o quando inserisci 0: \"))\n",
    "    # Controllo se il numero inserito è pari\n",
    "    while numero % 2 != 0:\n",
    "        print(\"Errore: il numero deve essere pari!\")\n",
    "        numero = int(input(f\"Inserisci il {count}° numero pari: \"))  # Richiede un nuovo numero\n",
    "\n",
    "    somma += numero  # Questo avverrebbe anche se il numero è 0\n",
    "    count += 1\n",
    "print(f\"Valore della somma: {somma}\")\n",
    "    \n"
   ]
  },
  {
   "cell_type": "markdown",
   "metadata": {},
   "source": [
    "### Esercizi"
   ]
  },
  {
   "cell_type": "code",
   "execution_count": null,
   "metadata": {},
   "outputs": [],
   "source": [
    "'''\n",
    "Scrivi un programma che chiede in input un intero all'utente e poi stampa tutti i multipli di 5 inferiori a quel numero\n",
    "'''"
   ]
  },
  {
   "cell_type": "code",
   "execution_count": null,
   "metadata": {},
   "outputs": [],
   "source": [
    "'''\n",
    "Scrivi un programma che chiede in input un intero all'utente e poi stampa il fattoriale di quel numero.\n",
    "Il fattoriale di un numero intero si calcola come il prodotto di tutti gli interi dal numero stesso fino a 1: il fattoriale di 5 = 5 * 4 * 3 * 2 * 1 (si indica matematicamente come 5!)\n",
    "Realizza il programma in due differenti versioni, con il ciclo for e con il ciclo while\n",
    "'''"
   ]
  },
  {
   "cell_type": "code",
   "execution_count": null,
   "metadata": {},
   "outputs": [],
   "source": [
    "'''\n",
    "Realizza un contatore che conta da un numero di partenza (start) per un determinato numero di volte (numero) con un certo step (step) e stampa in output il numero di arrivo (arrivo). Chiedi tutti e tre i valori (start, numero e step) in input.\n",
    "Esempio:\n",
    "start: 5\n",
    "numero: 3\n",
    "step: 3\n",
    "arrivo: 11\n",
    "'''"
   ]
  },
  {
   "cell_type": "code",
   "execution_count": null,
   "metadata": {},
   "outputs": [],
   "source": [
    "'''\n",
    "Realizza un contatore che conta da un numero di partenza (start) per un determinato numero di volte (numero) fino a un certo numero di arrivo (arrivo) e stampa in output il numero di conteggi effettuati (numero). Chiedi tutti e tre i valori (start, step e arrivo) in input.\n",
    "Esempio:\n",
    "start: 5\n",
    "step: 2\n",
    "arrivo: 15\n",
    "numero: 6\n",
    "'''"
   ]
  },
  {
   "cell_type": "code",
   "execution_count": null,
   "metadata": {},
   "outputs": [],
   "source": [
    "'''\n",
    "Scrivi un programma che chiede in input un numero intero e stampa in output il quadrato perfetto più vicino a quel numero ma minore di quel numero. Esempio: se l'input è pari a 40, in output sarà stampato 36.\n",
    "'''"
   ]
  },
  {
   "cell_type": "code",
   "execution_count": null,
   "metadata": {},
   "outputs": [],
   "source": [
    "'''\n",
    "Scrivi un programma che chiede in input un numero intero e stampa se il numero è primo oppure no.\n",
    "'''"
   ]
  },
  {
   "cell_type": "code",
   "execution_count": null,
   "metadata": {},
   "outputs": [],
   "source": [
    "'''\n",
    "Scrivere un programma in Python che legge due numeri interi e calcola il prodotto tra i due numeri usando solo l'operatore somma.\n",
    "'''"
   ]
  },
  {
   "cell_type": "code",
   "execution_count": null,
   "metadata": {},
   "outputs": [],
   "source": [
    "'''\n",
    "Scrivi un programma che legge una sequenza di numeri e calcola la loro media.\n",
    "Se il numero è interno all'intervallo [10,50] allora contribuisce al valore della media.\n",
    "Se viene inserito 0, il programma stampa la media dei numeri inseriti e termina.\n",
    "'''"
   ]
  }
 ],
 "metadata": {
  "kernelspec": {
   "display_name": "Python 3",
   "language": "python",
   "name": "python3"
  },
  "language_info": {
   "codemirror_mode": {
    "name": "ipython",
    "version": 3
   },
   "file_extension": ".py",
   "mimetype": "text/x-python",
   "name": "python",
   "nbconvert_exporter": "python",
   "pygments_lexer": "ipython3",
   "version": "3.10.8"
  }
 },
 "nbformat": 4,
 "nbformat_minor": 4
}
